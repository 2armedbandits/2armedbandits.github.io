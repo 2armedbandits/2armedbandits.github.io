{
  "nbformat": 4,
  "nbformat_minor": 0,
  "metadata": {
    "colab": {
      "name": "RL.py",
      "provenance": [],
      "collapsed_sections": []
    },
    "kernelspec": {
      "name": "python3",
      "display_name": "Python 3"
    }
  },
  "cells": [
    {
      "cell_type": "markdown",
      "metadata": {
        "id": "0vNTmdH7RKj5",
        "colab_type": "text"
      },
      "source": [
        "## Setup\n",
        "\n"
      ]
    },
    {
      "cell_type": "code",
      "metadata": {
        "id": "DPbstUbAQutm",
        "colab_type": "code",
        "colab": {}
      },
      "source": [
        "import numpy as np\n",
        "\n",
        "q = np.random.normal(0.0, 2.0, size=10)\n",
        "std = 0.5"
      ],
      "execution_count": 0,
      "outputs": []
    },
    {
      "cell_type": "markdown",
      "metadata": {
        "id": "CrFIdAk0RRWk",
        "colab_type": "text"
      },
      "source": [
        "## Action Value Estimation"
      ]
    },
    {
      "cell_type": "code",
      "metadata": {
        "id": "vLrjjMaWRQ37",
        "colab_type": "code",
        "colab": {}
      },
      "source": [
        "q_a = np.array([0.0] * len(q))\n",
        "n_a = np.array([0] * len(q))\n",
        "\n",
        "for _ in range(1000):\n",
        "    action = np.random.randint(10)\n",
        "    reward = np.random.normal(q[action], std)\n",
        "    n_a[action] += 1\n",
        "    q_a[action] += (reward - q_a[action]) / n_a[action]"
      ],
      "execution_count": 0,
      "outputs": []
    },
    {
      "cell_type": "code",
      "metadata": {
        "id": "7KwLhepvRcHe",
        "colab_type": "code",
        "colab": {
          "base_uri": "https://localhost:8080/",
          "height": 86
        },
        "outputId": "bdc0913e-9e86-4661-f041-73f6405bd73b"
      },
      "source": [
        "print(q)\n",
        "print(q_a)"
      ],
      "execution_count": 3,
      "outputs": [
        {
          "output_type": "stream",
          "text": [
            "[-0.65626338  3.30902524  1.24768379 -1.71470725  3.2194856  -1.12777154\n",
            " -0.19602347 -2.62634229 -3.04308601  2.27663233]\n",
            "[-0.64670309  3.34310222  1.25874743 -1.71544833  3.19432743 -1.09342998\n",
            " -0.08219212 -2.69294766 -3.07612633  2.23282898]\n"
          ],
          "name": "stdout"
        }
      ]
    },
    {
      "cell_type": "markdown",
      "metadata": {
        "id": "q_029F7aRicB",
        "colab_type": "text"
      },
      "source": [
        "## $\\epsilon$-greedy Methods\n"
      ]
    },
    {
      "cell_type": "code",
      "metadata": {
        "id": "yAd3JZ1YRXI5",
        "colab_type": "code",
        "colab": {
          "base_uri": "https://localhost:8080/",
          "height": 86
        },
        "outputId": "32e08c04-92e7-4e0e-eb3a-fd2b922f7c9d"
      },
      "source": [
        "q_a = np.array([0.0] * len(q))\n",
        "n_a = np.array([0] * len(q))\n",
        "\n",
        "def greedy_epsilon(epsilon):\n",
        "  for _ in range(5000):\n",
        "    action = None\n",
        "    if np.random.random() < 1 - epsilon:\n",
        "      action = np.argmax(q_a)\n",
        "    else:\n",
        "      action = np.random.randint(10)\n",
        "    reward = np.random.normal(q[action], std)\n",
        "    n_a[action] += 1\n",
        "    q_a[action] += (reward - q_a[action]) / n_a[action]\n",
        "\n",
        "greedy_epsilon(epsilon = 0.1)\n",
        "\n",
        "print(q)\n",
        "print(q_a)"
      ],
      "execution_count": 4,
      "outputs": [
        {
          "output_type": "stream",
          "text": [
            "[-0.65626338  3.30902524  1.24768379 -1.71470725  3.2194856  -1.12777154\n",
            " -0.19602347 -2.62634229 -3.04308601  2.27663233]\n",
            "[-0.56538706  3.31138381  1.25464436 -1.58737853  3.23737234 -1.06952858\n",
            " -0.21815308 -2.64531225 -3.02194455  2.19989203]\n"
          ],
          "name": "stdout"
        }
      ]
    },
    {
      "cell_type": "markdown",
      "metadata": {
        "id": "7UWEljmsRwT4",
        "colab_type": "text"
      },
      "source": [
        "## Optimistic Initialization\n"
      ]
    },
    {
      "cell_type": "code",
      "metadata": {
        "id": "Anhk09E3Rwv4",
        "colab_type": "code",
        "colab": {
          "base_uri": "https://localhost:8080/",
          "height": 86
        },
        "outputId": "b2692732-f902-4b26-a8ef-c4b49343852d"
      },
      "source": [
        "q_a = np.array([5.0] * len(q))\n",
        "greedy_epsilon(epsilon = 0.1)\n",
        "\n",
        "print(q)\n",
        "print(q_a)"
      ],
      "execution_count": 5,
      "outputs": [
        {
          "output_type": "stream",
          "text": [
            "[-0.65626338  3.30902524  1.24768379 -1.71470725  3.2194856  -1.12777154\n",
            " -0.19602347 -2.62634229 -3.04308601  2.27663233]\n",
            "[1.98322215 4.15237135 3.6670228  1.49351269 4.12881335 1.85575876\n",
            " 2.00592789 0.50795738 1.5918313  3.7399046 ]\n"
          ],
          "name": "stdout"
        }
      ]
    },
    {
      "cell_type": "markdown",
      "metadata": {
        "id": "aDVXCKFWSK_X",
        "colab_type": "text"
      },
      "source": [
        "## Moving Rewards\n"
      ]
    },
    {
      "cell_type": "code",
      "metadata": {
        "id": "REpkSUndSLxa",
        "colab_type": "code",
        "colab": {}
      },
      "source": [
        "def alpha(action):\n",
        "  # return 1/n_a[action]\n",
        "  return 0.1"
      ],
      "execution_count": 0,
      "outputs": []
    },
    {
      "cell_type": "markdown",
      "metadata": {
        "id": "vLAp8uO-SN6U",
        "colab_type": "text"
      },
      "source": [
        "## Upper-Confidence Bound Action Selection\n"
      ]
    },
    {
      "cell_type": "code",
      "metadata": {
        "id": "96-bvqzdSNUo",
        "colab_type": "code",
        "colab": {
          "base_uri": "https://localhost:8080/",
          "height": 86
        },
        "outputId": "6b8e7553-84c8-4791-a359-776e4a08d36e"
      },
      "source": [
        "q_a = np.array([0.0] * len(q))\n",
        "n_a = np.array([0] * len(q))\n",
        "\n",
        "def ucb(c):\n",
        "  for t in range(5000):\n",
        "    action = np.argmax([q_a[i] + c * np.sqrt(np.log(t+1)/np.max([n_a[i], 1])) for i in range(len(q_a))])\n",
        "    reward = np.random.normal(q[action], std)\n",
        "    n_a[action] += 1\n",
        "    q_a[action] += alpha(action) * (reward - q_a[action])\n",
        "\n",
        "ucb(c = 2)\n",
        "print(q)\n",
        "print(q_a)"
      ],
      "execution_count": 7,
      "outputs": [
        {
          "output_type": "stream",
          "text": [
            "[-0.65626338  3.30902524  1.24768379 -1.71470725  3.2194856  -1.12777154\n",
            " -0.19602347 -2.62634229 -3.04308601  2.27663233]\n",
            "[-0.36246185  2.92719078  0.750019   -0.49707868  3.14865734 -0.30861423\n",
            " -0.04593552 -0.82837246 -0.67616517  1.91434115]\n"
          ],
          "name": "stdout"
        }
      ]
    },
    {
      "cell_type": "markdown",
      "metadata": {
        "id": "vLLvHaYvS_mG",
        "colab_type": "text"
      },
      "source": [
        "## Gradient Bandits\n"
      ]
    },
    {
      "cell_type": "code",
      "metadata": {
        "id": "3rcUfrvBS-qS",
        "colab_type": "code",
        "colab": {
          "base_uri": "https://localhost:8080/",
          "height": 86
        },
        "outputId": "b2fb562b-d2c5-43e3-aa1b-60da3e6bca7f"
      },
      "source": [
        "q_a = np.array([0.0] * len(q))\n",
        "n_a = np.array([0] * len(q))\n",
        "\n",
        "def softmax(x):\n",
        "    return np.exp(x) / np.sum(np.exp(x), axis=0)\n",
        "\n",
        "def sgd(a):\n",
        "  reward_avg = 0\n",
        "  for t in range(5000):\n",
        "    random_num = np.random.random()\n",
        "    sm = softmax(q_a)\n",
        "    action = None\n",
        "    for i in range(len(sm)):\n",
        "      random_num -= sm[i]\n",
        "      if random_num <= 0:\n",
        "        action = i\n",
        "        break\n",
        "    \n",
        "    n_a[action] += 1\n",
        "    reward = np.random.normal(q[action], std)\n",
        "    reward_avg += 1/(t+1) * (reward - reward_avg)\n",
        "\n",
        "    q_a[action] += a * (reward - reward_avg) * (1 - sm[action])\n",
        "    for i in range(len(sm)):\n",
        "      if i != action:\n",
        "        q_a[i] -= a * (reward - reward_avg) * (sm[i])\n",
        "\n",
        "sgd(0.1)\n",
        "print(q)\n",
        "print(q_a)"
      ],
      "execution_count": 8,
      "outputs": [
        {
          "output_type": "stream",
          "text": [
            "[-0.65626338  3.30902524  1.24768379 -1.71470725  3.2194856  -1.12777154\n",
            " -0.19602347 -2.62634229 -3.04308601  2.27663233]\n",
            "[-1.82665961  9.34359328 -1.04064991 -1.7707259   2.99920385 -1.23354222\n",
            " -1.91125836 -2.35811435 -1.87262499 -0.3292218 ]\n"
          ],
          "name": "stdout"
        }
      ]
    },
    {
      "cell_type": "code",
      "metadata": {
        "id": "bpDlBjh4T0Uv",
        "colab_type": "code",
        "colab": {}
      },
      "source": [
        ""
      ],
      "execution_count": 0,
      "outputs": []
    }
  ]
}