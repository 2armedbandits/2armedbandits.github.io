{
 "cells": [
  {
   "cell_type": "markdown",
   "metadata": {
    "colab_type": "text",
    "id": "0vNTmdH7RKj5"
   },
   "source": [
    "## Setup\n",
    "\n"
   ]
  },
  {
   "cell_type": "code",
   "execution_count": null,
   "metadata": {
    "colab": {},
    "colab_type": "code",
    "id": "DPbstUbAQutm"
   },
   "outputs": [],
   "source": [
    "import numpy as np\n",
    "\n",
    "q = np.random.normal(0.0, 2.0, size=10)\n",
    "std = 0.5"
   ]
  },
  {
   "cell_type": "markdown",
   "metadata": {
    "colab_type": "text",
    "id": "CrFIdAk0RRWk"
   },
   "source": [
    "## Action Value Estimation"
   ]
  },
  {
   "cell_type": "code",
   "execution_count": null,
   "metadata": {
    "colab": {},
    "colab_type": "code",
    "id": "vLrjjMaWRQ37"
   },
   "outputs": [],
   "source": [
    "q_a = np.array([0.0] * len(q))\n",
    "n_a = np.array([0] * len(q))\n",
    "\n",
    "for _ in range(1000):\n",
    "    action = np.random.randint(10)\n",
    "    reward = np.random.normal(q[action], std)\n",
    "    n_a[action] += 1\n",
    "    q_a[action] += (reward - q_a[action]) / n_a[action]"
   ]
  },
  {
   "cell_type": "code",
   "execution_count": null,
   "metadata": {
    "colab": {
     "base_uri": "https://localhost:8080/",
     "height": 86
    },
    "colab_type": "code",
    "id": "7KwLhepvRcHe",
    "outputId": "bdc0913e-9e86-4661-f041-73f6405bd73b"
   },
   "outputs": [],
   "source": [
    "print(q)\n",
    "print(q_a)"
   ]
  },
  {
   "cell_type": "markdown",
   "metadata": {
    "colab_type": "text",
    "id": "q_029F7aRicB"
   },
   "source": [
    "## $\\epsilon$-greedy Methods\n"
   ]
  },
  {
   "cell_type": "code",
   "execution_count": null,
   "metadata": {
    "colab": {
     "base_uri": "https://localhost:8080/",
     "height": 86
    },
    "colab_type": "code",
    "id": "yAd3JZ1YRXI5",
    "outputId": "32e08c04-92e7-4e0e-eb3a-fd2b922f7c9d"
   },
   "outputs": [],
   "source": [
    "q_a = np.array([0.0] * len(q))\n",
    "n_a = np.array([0] * len(q))\n",
    "\n",
    "def greedy_epsilon(epsilon):\n",
    "  for _ in range(5000):\n",
    "    action = None\n",
    "    if np.random.random() < 1 - epsilon:\n",
    "      action = np.argmax(q_a)\n",
    "    else:\n",
    "      action = np.random.randint(10)\n",
    "    reward = np.random.normal(q[action], std)\n",
    "    n_a[action] += 1\n",
    "    q_a[action] += (reward - q_a[action]) / n_a[action]\n",
    "\n",
    "greedy_epsilon(epsilon = 0.1)\n",
    "\n",
    "print(q)\n",
    "print(q_a)"
   ]
  },
  {
   "cell_type": "markdown",
   "metadata": {
    "colab_type": "text",
    "id": "7UWEljmsRwT4"
   },
   "source": [
    "## Optimistic Initialization\n"
   ]
  },
  {
   "cell_type": "code",
   "execution_count": null,
   "metadata": {
    "colab": {
     "base_uri": "https://localhost:8080/",
     "height": 86
    },
    "colab_type": "code",
    "id": "Anhk09E3Rwv4",
    "outputId": "b2692732-f902-4b26-a8ef-c4b49343852d"
   },
   "outputs": [],
   "source": [
    "q_a = np.array([5.0] * len(q))\n",
    "greedy_epsilon(epsilon = 0.1)\n",
    "\n",
    "print(q)\n",
    "print(q_a)"
   ]
  },
  {
   "cell_type": "markdown",
   "metadata": {
    "colab_type": "text",
    "id": "aDVXCKFWSK_X"
   },
   "source": [
    "## Moving Rewards\n"
   ]
  },
  {
   "cell_type": "code",
   "execution_count": null,
   "metadata": {
    "colab": {},
    "colab_type": "code",
    "id": "REpkSUndSLxa"
   },
   "outputs": [],
   "source": [
    "def alpha(action):\n",
    "  # return 1/n_a[action]\n",
    "  return 0.1"
   ]
  },
  {
   "cell_type": "markdown",
   "metadata": {
    "colab_type": "text",
    "id": "vLLvHaYvS_mG"
   },
   "source": [
    "## Softmax\n",
    "\n"
   ]
  },
  {
   "cell_type": "code",
   "execution_count": null,
   "metadata": {},
   "outputs": [],
   "source": [
    "q_a = np.array([0.0] * len(q))\n",
    "n_a = np.array([0] * len(q))\n",
    "\n",
    "def softmax(x):\n",
    "    return np.exp(x) / np.sum(np.exp(x), axis=0)\n",
    "\n",
    "def softmax_action(beta):\n",
    "  for t in range(5000):\n",
    "    action = np.random.choice(\n",
    "        np.arange(len(q_a)), \n",
    "        p = softmax(q_a)\n",
    "    )\n",
    "    reward = np.random.normal(q[action], std)\n",
    "    n_a[action] += 1\n",
    "    q_a[action] += alpha(action) * (reward - q_a[action])\n",
    "\n",
    "softmax_action(beta = 1)\n",
    "print(q)\n",
    "print(q_a)"
   ]
  },
  {
   "cell_type": "markdown",
   "metadata": {
    "colab_type": "text",
    "id": "vLAp8uO-SN6U"
   },
   "source": [
    "## Upper-Confidence Bound Action Selection\n"
   ]
  },
  {
   "cell_type": "code",
   "execution_count": null,
   "metadata": {
    "colab": {
     "base_uri": "https://localhost:8080/",
     "height": 86
    },
    "colab_type": "code",
    "id": "96-bvqzdSNUo",
    "outputId": "6b8e7553-84c8-4791-a359-776e4a08d36e"
   },
   "outputs": [],
   "source": [
    "q_a = np.array([0.0] * len(q))\n",
    "n_a = np.array([0] * len(q))\n",
    "\n",
    "def ucb(c):\n",
    "  for t in range(5000):\n",
    "    action = np.argmax([q_a[i] + c * np.sqrt(np.log(t+1)/np.max([n_a[i], 1])) for i in range(len(q_a))])\n",
    "    reward = np.random.normal(q[action], std)\n",
    "    n_a[action] += 1\n",
    "    q_a[action] += alpha(action) * (reward - q_a[action])\n",
    "\n",
    "ucb(c = 2)\n",
    "print(q)\n",
    "print(q_a)"
   ]
  }
 ],
 "metadata": {
  "colab": {
   "collapsed_sections": [],
   "name": "RL.py",
   "provenance": []
  },
  "kernelspec": {
   "display_name": "Python 3",
   "language": "python",
   "name": "python3"
  },
  "language_info": {
   "codemirror_mode": {
    "name": "ipython",
    "version": 3
   },
   "file_extension": ".py",
   "mimetype": "text/x-python",
   "name": "python",
   "nbconvert_exporter": "python",
   "pygments_lexer": "ipython3",
   "version": "3.7.3"
  }
 },
 "nbformat": 4,
 "nbformat_minor": 1
}
