{
  "nbformat": 4,
  "nbformat_minor": 0,
  "metadata": {
    "colab": {
      "name": "2-environment",
      "provenance": [],
      "collapsed_sections": []
    },
    "kernelspec": {
      "name": "python3",
      "display_name": "Python 3"
    },
    "accelerator": "GPU"
  },
  "cells": [
    {
      "cell_type": "markdown",
      "metadata": {
        "id": "uJWJUk5jtjin",
        "colab_type": "text"
      },
      "source": [
        "## Setup"
      ]
    },
    {
      "cell_type": "code",
      "metadata": {
        "id": "NDz_eHReHIKF",
        "colab_type": "code",
        "colab": {}
      },
      "source": [
        "import numpy as np\n",
        "import matplotlib.pyplot as plt"
      ],
      "execution_count": 0,
      "outputs": []
    },
    {
      "cell_type": "code",
      "metadata": {
        "id": "JbMiU1WI_2M9",
        "colab_type": "code",
        "colab": {}
      },
      "source": [
        "# States represent how much money our gambler has, with range [0, 100] inclusive\n",
        "V_s = np.zeros(101)\n",
        "NUM_STATES, NUM_ACTIONS = 101, 50\n",
        "\n",
        "# Reward of +1 at 100 and 0 otherwise\n",
        "def reward(state):\n",
        "  return int(state == 100)\n",
        "\n",
        "# Gambler can bet at most up to his money, or the amount of money that gets him to 100 if heads\n",
        "def get_actions(state):\n",
        "  return list(range(0, min(state, 100 - state)))\n",
        "\n",
        "def get_states():\n",
        "  return list(range(1, 100))\n",
        "\n",
        "# Probability of Heads\n",
        "p_h = 0.4\n",
        "\n",
        "# Calculate probability and new state, reward transitions\n",
        "# There are 50 actions to take (actions in [1,50] inclusive)\n",
        "# Returns list of (next_state, reward, probability)\n",
        "def transitions(state, action):\n",
        "  return [\n",
        "    (state + action + 1, reward(state + action + 1), p_h),\n",
        "    (state - action - 1, reward(state - action - 1), 1 - p_h),\n",
        "  ]\n",
        "\n",
        "# Set up training parameters\n",
        "DELTA_LIM = 0.0000000001\n",
        "DISCOUNT = 1"
      ],
      "execution_count": 0,
      "outputs": []
    },
    {
      "cell_type": "markdown",
      "metadata": {
        "id": "dSb8Zwr-x-vG",
        "colab_type": "text"
      },
      "source": [
        "## Policy Evaluation\n",
        "Estimates $V=v_\\pi$"
      ]
    },
    {
      "cell_type": "code",
      "metadata": {
        "id": "X7fFMp52x-VG",
        "colab_type": "code",
        "colab": {}
      },
      "source": [
        "def policy_evaluation(V_s, policy):\n",
        "  delta = DELTA_LIM + 1\n",
        "  \n",
        "  while delta > DELTA_LIM:\n",
        "    delta = 0\n",
        "    for state in get_states():\n",
        "      old_state = V_s[state]\n",
        "      \n",
        "      expected_reward = 0\n",
        "      for action in get_actions(state):\n",
        "        action_reward = 0\n",
        "        for next_state, reward, prob in transitions(state, action):\n",
        "          action_reward += prob * (reward + DISCOUNT * V_s[next_state])\n",
        "        expected_reward += action_reward * policy[state, action]\n",
        "\n",
        "      V_s[state] = expected_reward\n",
        "      delta = max(delta, abs(old_state - V_s[state]))\n",
        "    \n",
        "  return V_s"
      ],
      "execution_count": 0,
      "outputs": []
    },
    {
      "cell_type": "code",
      "metadata": {
        "id": "uFWmVzqByb2c",
        "colab_type": "code",
        "outputId": "c86faeea-c725-4f55-aa4b-49b851a34dda",
        "colab": {
          "base_uri": "https://localhost:8080/",
          "height": 265
        }
      },
      "source": [
        "# Our policy is to bet 1 everytime\n",
        "policy = np.zeros((NUM_STATES, NUM_ACTIONS))\n",
        "policy[:, 0] = 1\n",
        "\n",
        "V_s = policy_evaluation(V_s, policy)\n",
        "\n",
        "plt.plot(V_s[1:-1])\n",
        "plt.savefig('policy_eval.png')"
      ],
      "execution_count": 0,
      "outputs": [
        {
          "output_type": "display_data",
          "data": {
            "image/png": "[encoded data removed]",
            "text/plain": [
              "<Figure size 432x288 with 1 Axes>"
            ]
          },
          "metadata": {
            "tags": []
          }
        }
      ]
    },
    {
      "cell_type": "markdown",
      "metadata": {
        "id": "K0OBP9UX0rDk",
        "colab_type": "text"
      },
      "source": [
        "## Policy Improvement"
      ]
    },
    {
      "cell_type": "code",
      "metadata": {
        "id": "72MO3kJ-7FCb",
        "colab_type": "code",
        "colab": {}
      },
      "source": [
        "def policy_improvement(V_s, policy):\n",
        "  stable = True\n",
        "\n",
        "  for state in get_states():\n",
        "    old_action = np.argmax(policy[state])\n",
        "    rewards = np.zeros(NUM_ACTIONS)\n",
        "\n",
        "    for action in get_actions(state):\n",
        "      for next_state, reward, prob in transitions(state, action):\n",
        "        rewards[action] += prob * (reward + DISCOUNT * V_s[next_state])\n",
        "\n",
        "    policy[state] = np.eye(NUM_ACTIONS)[np.argmax(rewards)]  \n",
        "    stable &= (old_action == np.argmax(policy[state]))\n",
        "  \n",
        "  return policy, stable"
      ],
      "execution_count": 0,
      "outputs": []
    },
    {
      "cell_type": "markdown",
      "metadata": {
        "id": "MV38T8yH9sJZ",
        "colab_type": "text"
      },
      "source": [
        "## Policy Iteration\n",
        "Estimating $\\pi \\approx \\pi_*$"
      ]
    },
    {
      "cell_type": "code",
      "metadata": {
        "id": "gkbq_rZf9r0m",
        "colab_type": "code",
        "colab": {}
      },
      "source": [
        "def policy_iteration():\n",
        "  V_s = np.random.random(NUM_STATES)\n",
        "  V_s[-1] = 0\n",
        "\n",
        "  policy = np.zeros((NUM_STATES, NUM_ACTIONS))\n",
        "  policy[:, 0] = 1\n",
        "\n",
        "  stable = False\n",
        "  while not stable:\n",
        "    V_s = policy_evaluation(V_s, policy)\n",
        "    policy, stable = policy_improvement(V_s, policy)\n",
        "  return V_s, policy"
      ],
      "execution_count": 0,
      "outputs": []
    },
    {
      "cell_type": "code",
      "metadata": {
        "id": "9l7cFJdSzmrN",
        "colab_type": "code",
        "colab": {}
      },
      "source": [
        "median = []\n",
        "for _ in range(50):\n",
        "  _, policy = policy_iteration()\n",
        "  median.append(np.argmax(policy, axis=1))"
      ],
      "execution_count": 0,
      "outputs": []
    },
    {
      "cell_type": "code",
      "metadata": {
        "id": "lONznuIKzv-X",
        "colab_type": "code",
        "outputId": "215ef4ec-fb25-40a7-ce86-f0d55da84c48",
        "colab": {
          "base_uri": "https://localhost:8080/",
          "height": 282
        }
      },
      "source": [
        "med = np.median(np.array(median), axis=0)\n",
        "plt.plot(np.arange(NUM_STATES), med)\n",
        "plt.show()\n",
        "plt.savefig('policy_med.png')"
      ],
      "execution_count": 0,
      "outputs": [
        {
          "output_type": "display_data",
          "data": {
            "image/png": "[encoded data removed]",
            "text/plain": [
              "<Figure size 432x288 with 1 Axes>"
            ]
          },
          "metadata": {
            "tags": []
          }
        },
        {
          "output_type": "display_data",
          "data": {
            "text/plain": [
              "<Figure size 432x288 with 0 Axes>"
            ]
          },
          "metadata": {
            "tags": []
          }
        }
      ]
    },
    {
      "cell_type": "markdown",
      "metadata": {
        "id": "pxn5XfzTzGVg",
        "colab_type": "text"
      },
      "source": [
        "## Value Iteration"
      ]
    },
    {
      "cell_type": "code",
      "metadata": {
        "id": "pPe0KO8sT-JR",
        "colab_type": "code",
        "colab": {}
      },
      "source": [
        "def value_iteration(V_s):\n",
        "  delta = DELTA_LIM + 1\n",
        "  policy = np.zeros((NUM_STATES, NUM_ACTIONS))\n",
        "  policy[:, 0] = 1\n",
        "  \n",
        "  while delta > DELTA_LIM:\n",
        "    delta = 0\n",
        "    for state in get_states():\n",
        "      v = V_s[state]\n",
        "      rewards = np.zeros(NUM_ACTIONS)\n",
        "\n",
        "      for action in get_actions(state):\n",
        "        for next_state, reward, prob in transitions(state, action):\n",
        "          rewards[action] += prob * (reward + DISCOUNT * V_s[next_state])\n",
        "      \n",
        "      V_s[state] = rewards.max()\n",
        "      policy[state] = np.eye(NUM_ACTIONS)[np.argmax(rewards)]\n",
        "      delta = max(delta, abs(v - V_s[state]))\n",
        "    \n",
        "  return policy, V_s"
      ],
      "execution_count": 0,
      "outputs": []
    },
    {
      "cell_type": "code",
      "metadata": {
        "id": "wPVLiQbXW1gX",
        "colab_type": "code",
        "colab": {}
      },
      "source": [
        "V_s = np.random.random(101)\n",
        "V_s[-1] = 0\n",
        "policy, V_s = value_iteration(V_s)"
      ],
      "execution_count": 0,
      "outputs": []
    },
    {
      "cell_type": "code",
      "metadata": {
        "id": "VSegAHE1t3_C",
        "colab_type": "code",
        "colab": {}
      },
      "source": [
        "plt.bar(range(101), np.argmax(policy, axis=1))\n",
        "plt.show()\n",
        "plt.plot(V_s[1:-1])\n",
        "plt.show()"
      ],
      "execution_count": 0,
      "outputs": []
    }
  ]
}